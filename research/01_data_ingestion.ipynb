{
 "cells": [
  {
   "cell_type": "code",
   "execution_count": 1,
   "metadata": {},
   "outputs": [],
   "source": [
    "import os"
   ]
  },
  {
   "cell_type": "code",
   "execution_count": 2,
   "metadata": {},
   "outputs": [
    {
     "data": {
      "text/plain": [
       "'e:\\\\Kidney_Disease_Classification\\\\research'"
      ]
     },
     "execution_count": 2,
     "metadata": {},
     "output_type": "execute_result"
    }
   ],
   "source": [
    "# check the folder\n",
    "%pwd"
   ]
  },
  {
   "cell_type": "code",
   "execution_count": 3,
   "metadata": {},
   "outputs": [],
   "source": [
    "os.chdir(\"../\")"
   ]
  },
  {
   "cell_type": "code",
   "execution_count": 4,
   "metadata": {},
   "outputs": [
    {
     "data": {
      "text/plain": [
       "'e:\\\\Kidney_Disease_Classification'"
      ]
     },
     "execution_count": 4,
     "metadata": {},
     "output_type": "execute_result"
    }
   ],
   "source": [
    "%pwd"
   ]
  },
  {
   "cell_type": "code",
   "execution_count": 5,
   "metadata": {},
   "outputs": [],
   "source": [
    "# Entity :- Return Type of a function like ConfigBox\n",
    "from dataclasses import dataclass\n",
    "from pathlib import Path\n",
    "\n",
    "# Config.yaml\n",
    "@dataclass(frozen=True)\n",
    "class DataIngestionConfig:  # It is not an actual class , but a data class\n",
    "    root_dir:Path\n",
    "    source_URL:str\n",
    "    local_data_file:Path\n",
    "    unzip_dir:Path"
   ]
  },
  {
   "cell_type": "code",
   "execution_count": 6,
   "metadata": {},
   "outputs": [],
   "source": [
    "from Kidney_Disease_Classification.constrants import * # Import Everything\n",
    "from Kidney_Disease_Classification.utils.common import read_yaml,create_directories "
   ]
  },
  {
   "cell_type": "code",
   "execution_count": 7,
   "metadata": {},
   "outputs": [],
   "source": [
    "# Config Manager\n",
    "# Paste in Configuration (configuration.py)\n",
    "\n",
    "class ConfigurationManager:\n",
    "    def __init__(\n",
    "            self,\n",
    "            config_filepath=CONFIG_FILE_PATH,  # Return Box Type  # Ctrl+click to check the file path\n",
    "            params_filepath=PARAMS_FILE_PATH):\n",
    "\n",
    "            self.config=read_yaml(config_filepath)\n",
    "            self.params=read_yaml(params_filepath)\n",
    "\n",
    "            # From common.py\n",
    "            create_directories([self.config.artifacts_root]) # I can call using the key name using Box Type\n",
    "\n",
    "    def get_data_ingestion_config(self) -> DataIngestionConfig: # calling Data ingest config\n",
    "        config=self.config.data_ingestion  # Storing the config\n",
    "\n",
    "        create_directories([config.root_dir]) # Check config \n",
    "\n",
    "        # Define the custom return type of the function, check config, storing it\n",
    "        data_ingestion_config=DataIngestionConfig(\n",
    "            root_dir=config.root_dir,\n",
    "            source_URL=config.source_URL,\n",
    "            local_data_file=config.local_data_file,\n",
    "            unzip_dir=config.unzip_dir    \n",
    "        )\n",
    "\n",
    "        return data_ingestion_config\n",
    "    "
   ]
  },
  {
   "cell_type": "code",
   "execution_count": 8,
   "metadata": {},
   "outputs": [],
   "source": [
    "# Update the components\n",
    "\n",
    "import os\n",
    "import urllib.request as request  # Download the data set from url\n",
    "import zipfile # Unzip the data\n",
    "from Kidney_Disease_Classification import logger # Logging\n",
    "from Kidney_Disease_Classification.utils.common import get_size # Get datasize"
   ]
  },
  {
   "cell_type": "code",
   "execution_count": 9,
   "metadata": {},
   "outputs": [],
   "source": [
    "class DataIngestion:\n",
    "    def __init__(self,config: DataIngestionConfig): # we will get get data ingestion config\n",
    "        self.config=config\n",
    "\n",
    "    # Download File Method\n",
    "    def download_file(self):\n",
    "        if not os.path.exists(self.config.local_data_file):  # Check the directory,if not exists\n",
    "            filename,headers=request.urlretrieve(           # UrlRetrive:-Retrieve a URL into a temporary location on disk.\n",
    "                url=self.config.source_URL,\n",
    "                filename=self.config.local_data_file\n",
    "            )\n",
    "            logger.info(f\"{filename} download! with the following info: \\n{headers}\") # Header=url\n",
    "        else:\n",
    "            logger.info(f\"File already exists of size: {get_size(Path(self.config.local_data_file))}\")\n",
    "\n",
    "\n",
    "    # Extract the zip file\n",
    "    def extract_zip_file(self):\n",
    "        unzip_path=self.config.unzip_dir\n",
    "        os.makedirs(unzip_path,exist_ok=True)\n",
    "        with zipfile.ZipFile(self.config.local_data_file,'r') as zip_ref:\n",
    "            zip_ref.extractall(unzip_path) # Extract all file here (unzip_path)\n",
    "            "
   ]
  },
  {
   "cell_type": "code",
   "execution_count": 10,
   "metadata": {},
   "outputs": [
    {
     "name": "stdout",
     "output_type": "stream",
     "text": [
      "[2024-09-03 13:45:03,843: INFO: common: yaml file: config\\config.yaml loaded successfully]\n",
      "[2024-09-03 13:45:03,851: INFO: common: yaml file: params.yaml loaded successfully]\n",
      "[2024-09-03 13:45:03,854: INFO: common: created directory at: artifacts]\n",
      "[2024-09-03 13:45:03,856: INFO: common: created directory at: artifacts/data_ingestion]\n",
      "[2024-09-03 13:45:31,692: INFO: 2496140734: artifacts/data_ingestion/data.zip download! with the following info: \n",
      "Connection: close\n",
      "Content-Length: 57713952\n",
      "Cache-Control: max-age=300\n",
      "Content-Security-Policy: default-src 'none'; style-src 'unsafe-inline'; sandbox\n",
      "Content-Type: application/zip\n",
      "ETag: \"0a9f51134dfc7fa4a9965190dc81367d581d4d34d3994173653079464bae3cd0\"\n",
      "Strict-Transport-Security: max-age=31536000\n",
      "X-Content-Type-Options: nosniff\n",
      "X-Frame-Options: deny\n",
      "X-XSS-Protection: 1; mode=block\n",
      "X-GitHub-Request-Id: 912E:283FA9:3BCE23:4D11A0:66D6C588\n",
      "Accept-Ranges: bytes\n",
      "Date: Tue, 03 Sep 2024 08:15:08 GMT\n",
      "Via: 1.1 varnish\n",
      "X-Served-By: cache-del21748-DEL\n",
      "X-Cache: MISS\n",
      "X-Cache-Hits: 0\n",
      "X-Timer: S1725351305.648980,VS0,VE3576\n",
      "Vary: Authorization,Accept-Encoding,Origin\n",
      "Access-Control-Allow-Origin: *\n",
      "Cross-Origin-Resource-Policy: cross-origin\n",
      "X-Fastly-Request-ID: 48a314303df6223457403e75b2820b711d438aa0\n",
      "Expires: Tue, 03 Sep 2024 08:20:08 GMT\n",
      "Source-Age: 3\n",
      "\n",
      "]\n"
     ]
    }
   ],
   "source": [
    "## Create The pipeline\n",
    "try:\n",
    "    config=ConfigurationManager()\n",
    "    data_ingestin_config=config.get_data_ingestion_config()\n",
    "    data_ingestion=DataIngestion(config=data_ingestin_config)\n",
    "    data_ingestion.download_file()\n",
    "    data_ingestion.extract_zip_file()\n",
    "except Exception as e:\n",
    "    raise e"
   ]
  }
 ],
 "metadata": {
  "kernelspec": {
   "display_name": "venv",
   "language": "python",
   "name": "python3"
  },
  "language_info": {
   "codemirror_mode": {
    "name": "ipython",
    "version": 3
   },
   "file_extension": ".py",
   "mimetype": "text/x-python",
   "name": "python",
   "nbconvert_exporter": "python",
   "pygments_lexer": "ipython3",
   "version": "3.8.0"
  }
 },
 "nbformat": 4,
 "nbformat_minor": 2
}
